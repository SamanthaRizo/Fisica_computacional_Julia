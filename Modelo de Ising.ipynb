{
 "cells": [
  {
   "cell_type": "code",
   "execution_count": 1,
   "metadata": {},
   "outputs": [],
   "source": [
    "import numpy as np \n",
    "import random"
   ]
  },
  {
   "cell_type": "markdown",
   "metadata": {},
   "source": [
    "## 3.1 Armado de la red y cálculo de la energía del sistema\n",
    "Consideren una red cuadrada de $N\\times  N$, con $N^2$ el número de átomos que componen al sistema. Generen una lista con los primeros vecinos de cada sitio implementando condiciones periódicas a la frontera (lo cual es equivalente a transformar al plano en un toro). De esta forma, todos los sitios de la red tienen 4 vecinos. Ya que hayan hecho esto, calculen la energía de un par de conguraciones de espines y un valor de J."
   ]
  },
  {
   "cell_type": "code",
   "execution_count": 11,
   "metadata": {},
   "outputs": [
    {
     "data": {
      "text/plain": [
       "[-1, -1, 1, 1, 1, -1, -1, -1, 1]"
      ]
     },
     "execution_count": 11,
     "metadata": {},
     "output_type": "execute_result"
    }
   ],
   "source": [
    "N = 3 #tamaño de cada lado de la red\n",
    "Red = []\n",
    "#Definimos lista de ceros\n",
    "for i in range(N**2):\n",
    "    c = random.choice([-1,1])\n",
    "    Red.extend([c])\n",
    "Red"
   ]
  },
  {
   "cell_type": "code",
   "execution_count": 27,
   "metadata": {},
   "outputs": [],
   "source": [
    "#Vecinos\n",
    "up = []\n",
    "right = []\n",
    "down = []\n",
    "left = []\n",
    "#Neighbor.site: W/ D (up, right,  down, left)\n",
    "for j in range(1,N**2 +1):\n",
    "    #up\n",
    "    if (j + N) <= N**2:\n",
    "        up.extend([j+N])\n",
    "    else:\n",
    "        up.extend([j-N*(N-1)])\n",
    "    #right\n",
    "    if j % N != 0:\n",
    "        right.extend([j+1])\n",
    "    else:\n",
    "        right.extend([j-N+1])\n",
    "    #down\n",
    "    if  j - N >= 1:\n",
    "        down.extend([j-N])\n",
    "    else:\n",
    "        down.extend([j + N*(N-1)])\n",
    "    #left    \n",
    "    if (j-1)%N != 0:\n",
    "        left.extend([j-1])\n",
    "    else:\n",
    "        left.extend([j+N-1])"
   ]
  },
  {
   "cell_type": "code",
   "execution_count": 36,
   "metadata": {},
   "outputs": [
    {
     "data": {
      "text/plain": [
       "[[4, 5, 6, 7, 8, 9, 1, 2, 3],\n",
       " [2, 3, 1, 5, 6, 4, 8, 9, 7],\n",
       " [7, 8, 9, 1, 2, 3, 4, 5, 6],\n",
       " [3, 1, 2, 6, 4, 5, 9, 7, 8]]"
      ]
     },
     "execution_count": 36,
     "metadata": {},
     "output_type": "execute_result"
    }
   ],
   "source": [
    "neighbor = [up,right,down,left]\n",
    "neighbor"
   ]
  },
  {
   "cell_type": "markdown",
   "metadata": {},
   "source": [
    "# Método de Newton"
   ]
  },
  {
   "cell_type": "code",
   "execution_count": 12,
   "metadata": {},
   "outputs": [
    {
     "data": {
      "text/plain": [
       "1.3652300139161466"
      ]
     },
     "execution_count": 12,
     "metadata": {},
     "output_type": "execute_result"
    }
   ],
   "source": [
    "import scipy.optimize as opt\n",
    "\n",
    "# INGRESO\n",
    "fx  = lambda x: x**3 + 4*(x**2) - 10\n",
    "dfx = lambda x: 3*(x**2) + 8*x\n",
    "x0 = 2\n",
    "tolera = 0.001\n",
    " \n",
    "\n",
    "opt.newton(fx,x0, fprime=dfx, tol = tolera)"
   ]
  },
  {
   "cell_type": "markdown",
   "metadata": {},
   "source": [
    "## 3.2 Cálculo de la temperatura crítica del sistema\n",
    "\n",
    "La cantidad que juega un papel fundamental en todo el análisis que hacemos es la temperatura crítica, $T_c$, que para el problema de Onsager se obtiene de resolver la siguiente ecuación trascendental:\n",
    "$$2\\tanh^2\\left(\\frac{2J}{K_B T_c}\\right)=1$$"
   ]
  },
  {
   "cell_type": "code",
   "execution_count": null,
   "metadata": {},
   "outputs": [],
   "source": []
  },
  {
   "cell_type": "markdown",
   "metadata": {},
   "source": [
    "## 3.3. Evolución y termalización del sistema\n",
    "\n",
    "En física estadística, el objeto de mayor interés y a partir del cual se obtienen la ecuación de estado y todas las cantidades observables es la función de partición Z, que en el ensamble canónico tiene la siguiente forma:\n",
    "$$Z =\\sum_C e^{\\beta E(C)},$$\n",
    "donde la suma corre sobre todas las posibles conguraciones C que pueden tener los átomos en la red y $\\beta=K_B T$ es la beta térmica. Para ejemplicar lo absurdo que sería calcular la función de partición por fuerza bruta, dado un valor para $\\beta > 0$, calculen la función de partición para redes de lado $N =[2, 3, 4, 5]$ y tomen el tiempo que se lleva en hacer el cálculo. ¿Qué tanto difieren los tiempos a medida que aumenta el tamaño de la red?"
   ]
  },
  {
   "cell_type": "code",
   "execution_count": null,
   "metadata": {},
   "outputs": [],
   "source": []
  },
  {
   "cell_type": "markdown",
   "metadata": {},
   "source": [
    "Una manera de sortear este problema es usando el algoritmo de Metrópolis con Montecarlo, que se centra en el cálculo de probabilidades de transición entre dos diferentes conguraciones (eliminando así la necesidad de la función de partición) y que tiene por objetivo generar una colección de conguraciones de espines que obedezcan la distribución del ensamble canónico. El problema con esto es que para varias iteraciones, el algoritmo produce conguraciones altamente correlacionadas entre sí y que por tanto no obedecen la distribución."
   ]
  },
  {
   "cell_type": "code",
   "execution_count": null,
   "metadata": {},
   "outputs": [],
   "source": []
  },
  {
   "cell_type": "markdown",
   "metadata": {},
   "source": [
    "Una vez que echen a andar al algoritmo de Metrópolis para que una conguración inicial C0 evolucione a la conguración que minimiza la energía del sistema, deben termalizar el sistema, que consiste en aproximar cuál es el número adecuado de congu-\n",
    "raciones intermedias que deben descartar para juntar un conjunto de Q conguraciones $\\{C_1, C_2, ... , C_Q\\}$ tal que todas sean estadísticamente independientes entre sí y que son las que usaran para calcular las cantidades observables del sistema. Los detalles de cómo se hace esto están en el libro y los platicaremos con detalle."
   ]
  },
  {
   "cell_type": "code",
   "execution_count": null,
   "metadata": {},
   "outputs": [],
   "source": []
  },
  {
   "cell_type": "markdown",
   "metadata": {},
   "source": [
    "**1. ¿Cuál es la distribución del ensamble canónico?, ¿para qué tipo de sistemas sirve?**\n",
    "\n"
   ]
  },
  {
   "cell_type": "code",
   "execution_count": null,
   "metadata": {},
   "outputs": [],
   "source": []
  },
  {
   "cell_type": "markdown",
   "metadata": {},
   "source": [
    "- https://ps.uci.edu/~cyu/p115A/LectureNotes/Lecture9/html_version/\n",
    "- https://estadistica-dma.ulpgc.es/FCC/05-3-Raices-de-Ecuaciones-2.html#metodo-de-la-secantehttps://estadistica-dma.ulpgc.es/FCC/05-3-Raices-de-Ecuaciones-2.html#metodo-de-la-secante\n",
    "- https://tereom.github.io/fundamentos/m%C3%A9todos-de-cadenas-de-markov-monte-carlo.html#m%C3%A9todo-de-metr%C3%B3polis"
   ]
  },
  {
   "cell_type": "code",
   "execution_count": null,
   "metadata": {},
   "outputs": [],
   "source": []
  }
 ],
 "metadata": {
  "kernelspec": {
   "display_name": "Python 3",
   "language": "python",
   "name": "python3"
  },
  "language_info": {
   "codemirror_mode": {
    "name": "ipython",
    "version": 3
   },
   "file_extension": ".py",
   "mimetype": "text/x-python",
   "name": "python",
   "nbconvert_exporter": "python",
   "pygments_lexer": "ipython3",
   "version": "3.8.5"
  }
 },
 "nbformat": 4,
 "nbformat_minor": 4
}
